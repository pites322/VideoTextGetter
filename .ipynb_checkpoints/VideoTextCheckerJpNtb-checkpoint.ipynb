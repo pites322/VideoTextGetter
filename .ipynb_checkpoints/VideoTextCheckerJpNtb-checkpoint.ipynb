{
 "cells": [
  {
   "cell_type": "code",
   "execution_count": 1,
   "metadata": {
    "scrolled": true
   },
   "outputs": [
    {
     "name": "stdout",
     "output_type": "stream",
     "text": [
      "video has been uploaded\n"
     ]
    },
    {
     "name": "stderr",
     "output_type": "stream",
     "text": [
      "chunk:   2%|▏         | 274/13294 [00:00<00:04, 2738.68it/s, now=None]"
     ]
    },
    {
     "name": "stdout",
     "output_type": "stream",
     "text": [
      "MoviePy - Writing audio in %s\n"
     ]
    },
    {
     "name": "stderr",
     "output_type": "stream",
     "text": [
      "                                                                        \r"
     ]
    },
    {
     "name": "stdout",
     "output_type": "stream",
     "text": [
      "MoviePy - Done.\n",
      "audio has been extracted from video\n",
      "extracting text from video started\n",
      "unfortunately extracting text from video was ended with exception: recognition connection failed: [Errno 32] Broken pipe. Please try again later or change video\n"
     ]
    }
   ],
   "source": [
    "import pandas as pd\n",
    "from VideoTextGetter import download_video, take_text_from_video_and_save_to_csv, na_values\n",
    "import os\n",
    "import moviepy.editor as mp\n",
    "\n",
    "url = 'https://www.youtube.com/watch?v=zbHW1T7boSc&t=16s'\n",
    "# save video file\n",
    "path_to_video = download_video(url)\n",
    "#check return from download_video function\n",
    "if path_to_video != '':\n",
    "    # get audiofile in wav format from video\n",
    "    print('video has been uploaded')\n",
    "    # remove old audiofile if it located on the directory\n",
    "    if 'audio.wav' in os.listdir(path=\".\"):\n",
    "        os.remove('audio.wav')\n",
    "        \n",
    "    # get absolute url to created video and bild absolute url what being created\n",
    "    absolute_path_to_video = os.path.abspath(path_to_video)\n",
    "    absolute_path_to_audio = os.path.abspath('audio.wav')\n",
    "    \n",
    "    # create audio.wav from video with ffmpeg\n",
    "    video = mp.VideoFileClip(\"video.mp4\")\n",
    "    video.audio.write_audiofile(\"audio.wav\")\n",
    "    print(\"audio has been extracted from video\")\n",
    "    \n",
    "    # take text from audio and save to csv\n",
    "    return_from_funcrion = take_text_from_video_and_save_to_csv()\n",
    "    if return_from_funcrion:\n",
    "        # take words from csv and remove words from na_values\n",
    "        words = pd.read_csv('words.csv', na_values=na_values)\n",
    "#         print(words['word'].unique())\n",
    "        print(words['word'].value_counts()[:10])\n"
   ]
  },
  {
   "cell_type": "code",
   "execution_count": null,
   "metadata": {},
   "outputs": [],
   "source": []
  },
  {
   "cell_type": "code",
   "execution_count": null,
   "metadata": {},
   "outputs": [],
   "source": []
  },
  {
   "cell_type": "code",
   "execution_count": null,
   "metadata": {},
   "outputs": [],
   "source": []
  }
 ],
 "metadata": {
  "kernelspec": {
   "display_name": "Python 3",
   "language": "python",
   "name": "python3"
  },
  "language_info": {
   "codemirror_mode": {
    "name": "ipython",
    "version": 3
   },
   "file_extension": ".py",
   "mimetype": "text/x-python",
   "name": "python",
   "nbconvert_exporter": "python",
   "pygments_lexer": "ipython3",
   "version": "3.6.8"
  }
 },
 "nbformat": 4,
 "nbformat_minor": 2
}
